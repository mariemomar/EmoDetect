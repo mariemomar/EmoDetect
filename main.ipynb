{
  "nbformat": 4,
  "nbformat_minor": 0,
  "metadata": {
    "colab": {
      "provenance": [],
      "gpuType": "T4",
      "include_colab_link": true
    },
    "kernelspec": {
      "name": "python3",
      "display_name": "Python 3"
    },
    "language_info": {
      "name": "python"
    },
    "accelerator": "GPU"
  },
  "cells": [
    {
      "cell_type": "markdown",
      "metadata": {
        "id": "view-in-github",
        "colab_type": "text"
      },
      "source": [
        "<a href=\"https://colab.research.google.com/github/mariemomar/EmoDetect/blob/main/main.ipynb\" target=\"_parent\"><img src=\"https://colab.research.google.com/assets/colab-badge.svg\" alt=\"Open In Colab\"/></a>"
      ]
    },
    {
      "cell_type": "code",
      "execution_count": 1,
      "metadata": {
        "id": "5BF-4K8-V9lG"
      },
      "outputs": [],
      "source": [
        "import pandas as pd\n",
        "import numpy as np\n",
        "import os\n",
        "import sys\n",
        "import librosa\n",
        "import librosa.display\n",
        "import seaborn as sns\n",
        "import matplotlib.pyplot as plt\n",
        "\n",
        "from sklearn.preprocessing import StandardScaler, OneHotEncoder\n",
        "from sklearn.metrics import confusion_matrix, classification_report\n",
        "from sklearn.model_selection import train_test_split\n",
        "\n",
        "# to play the audio files\n",
        "from IPython.display import Audio"
      ]
    },
    {
      "cell_type": "code",
      "source": [
        "import kagglehub\n",
        "\n",
        "# Download latest version\n",
        "path = kagglehub.dataset_download(\"uwrfkaggler/ravdess-emotional-song-audio\")\n",
        "\n",
        "print(\"Path to dataset files:\", path)"
      ],
      "metadata": {
        "colab": {
          "base_uri": "https://localhost:8080/"
        },
        "id": "fEbwHDCztMnY",
        "outputId": "7b592fba-9831-4b4a-b793-55448bb82fba"
      },
      "execution_count": 2,
      "outputs": [
        {
          "output_type": "stream",
          "name": "stdout",
          "text": [
            "Downloading from https://www.kaggle.com/api/v1/datasets/download/uwrfkaggler/ravdess-emotional-song-audio?dataset_version_number=1...\n"
          ]
        },
        {
          "output_type": "stream",
          "name": "stderr",
          "text": [
            "100%|██████████| 456M/456M [00:06<00:00, 78.5MB/s]"
          ]
        },
        {
          "output_type": "stream",
          "name": "stdout",
          "text": [
            "Extracting files...\n"
          ]
        },
        {
          "output_type": "stream",
          "name": "stderr",
          "text": [
            "\n"
          ]
        },
        {
          "output_type": "stream",
          "name": "stdout",
          "text": [
            "Path to dataset files: /root/.cache/kagglehub/datasets/uwrfkaggler/ravdess-emotional-song-audio/versions/1\n"
          ]
        }
      ]
    },
    {
      "cell_type": "code",
      "source": [
        "actors_folders = [os.path.join(path, folder) for folder in os.listdir(path) if os.path.isdir(os.path.join(path, folder))]\n",
        "# Debugging: List all actor folders\n",
        "print(\"Actor folders found:\", actors_folders)\n",
        "\n",
        "# Collect all audio file paths\n",
        "audio_files = []\n",
        "for actor_folder in actors_folders:\n",
        "    for f in os.listdir(actor_folder):\n",
        "        if f.endswith('.wav'):  # Ensure it's an audio file\n",
        "            audio_files.append(os.path.join(actor_folder, f))\n",
        "\n",
        "print(\"Found audio files:\", len(audio_files))"
      ],
      "metadata": {
        "colab": {
          "base_uri": "https://localhost:8080/"
        },
        "id": "pRasWErnvHXm",
        "outputId": "ccc3a5f0-a759-4138-e0ee-0217c7d4d4f1"
      },
      "execution_count": 3,
      "outputs": [
        {
          "output_type": "stream",
          "name": "stdout",
          "text": [
            "Actor folders found: ['/root/.cache/kagglehub/datasets/uwrfkaggler/ravdess-emotional-song-audio/versions/1/Actor_04', '/root/.cache/kagglehub/datasets/uwrfkaggler/ravdess-emotional-song-audio/versions/1/Actor_16', '/root/.cache/kagglehub/datasets/uwrfkaggler/ravdess-emotional-song-audio/versions/1/Actor_10', '/root/.cache/kagglehub/datasets/uwrfkaggler/ravdess-emotional-song-audio/versions/1/Actor_08', '/root/.cache/kagglehub/datasets/uwrfkaggler/ravdess-emotional-song-audio/versions/1/audio_song_actors_01-24', '/root/.cache/kagglehub/datasets/uwrfkaggler/ravdess-emotional-song-audio/versions/1/Actor_01', '/root/.cache/kagglehub/datasets/uwrfkaggler/ravdess-emotional-song-audio/versions/1/Actor_13', '/root/.cache/kagglehub/datasets/uwrfkaggler/ravdess-emotional-song-audio/versions/1/Actor_09', '/root/.cache/kagglehub/datasets/uwrfkaggler/ravdess-emotional-song-audio/versions/1/Actor_24', '/root/.cache/kagglehub/datasets/uwrfkaggler/ravdess-emotional-song-audio/versions/1/Actor_03', '/root/.cache/kagglehub/datasets/uwrfkaggler/ravdess-emotional-song-audio/versions/1/Actor_05', '/root/.cache/kagglehub/datasets/uwrfkaggler/ravdess-emotional-song-audio/versions/1/Actor_14', '/root/.cache/kagglehub/datasets/uwrfkaggler/ravdess-emotional-song-audio/versions/1/Actor_21', '/root/.cache/kagglehub/datasets/uwrfkaggler/ravdess-emotional-song-audio/versions/1/Actor_15', '/root/.cache/kagglehub/datasets/uwrfkaggler/ravdess-emotional-song-audio/versions/1/Actor_07', '/root/.cache/kagglehub/datasets/uwrfkaggler/ravdess-emotional-song-audio/versions/1/Actor_23', '/root/.cache/kagglehub/datasets/uwrfkaggler/ravdess-emotional-song-audio/versions/1/Actor_06', '/root/.cache/kagglehub/datasets/uwrfkaggler/ravdess-emotional-song-audio/versions/1/Actor_19', '/root/.cache/kagglehub/datasets/uwrfkaggler/ravdess-emotional-song-audio/versions/1/Actor_11', '/root/.cache/kagglehub/datasets/uwrfkaggler/ravdess-emotional-song-audio/versions/1/Actor_12', '/root/.cache/kagglehub/datasets/uwrfkaggler/ravdess-emotional-song-audio/versions/1/Actor_02', '/root/.cache/kagglehub/datasets/uwrfkaggler/ravdess-emotional-song-audio/versions/1/Actor_17', '/root/.cache/kagglehub/datasets/uwrfkaggler/ravdess-emotional-song-audio/versions/1/Actor_20', '/root/.cache/kagglehub/datasets/uwrfkaggler/ravdess-emotional-song-audio/versions/1/Actor_22']\n",
            "Found audio files: 1012\n"
          ]
        }
      ]
    },
    {
      "cell_type": "code",
      "source": [
        "for audio_file in audio_files:\n",
        "    # Load the specific audio file\n",
        "    #y will contain the amplitude values of the audio signal, and sr will contain the sampling rate of the audio ex4000hz\n",
        "    y, sr = librosa.load(audio_file, sr=None)\n",
        "\n",
        "    # Apply noise reduction\n",
        "    y_without_noise = librosa.effects.preemphasis(y)\n",
        "\n",
        "    # Apply normalization\n",
        "    y_normalized = librosa.util.normalize(y)\n",
        "\n",
        "    # For debugging, you can print the file being processed\n",
        "    # print(f\"Processed {audio_file} with sampling rate {sr}\")"
      ],
      "metadata": {
        "collapsed": true,
        "id": "kMWxBRWcpZyO"
      },
      "execution_count": 4,
      "outputs": []
    },
    {
      "cell_type": "code",
      "source": [
        "def plot_waveform(file_path):\n",
        "    y, sr = librosa.load(file_path, sr=None)\n",
        "\n",
        "    plt.figure(figsize=(10, 4))\n",
        "    librosa.display.waveshow(y, sr=sr, alpha=0.7)\n",
        "    plt.title(f\"Waveform of {os.path.basename(file_path)}\")\n",
        "    plt.xlabel(\"Time (seconds)\")\n",
        "    plt.ylabel(\"Amplitude\")\n",
        "    plt.show()\n",
        "\n",
        "# Example: Plot a calm and angry audio sample\n",
        "calm_audio = [f for f in audio_files if \"-02-\" in f][0] #calm sample\n",
        "angry_audio = [f for f in audio_files if \"-05-\" in f][0]  #angry sample\n",
        "\n",
        "plot_waveform(calm_audio)\n",
        "plot_waveform(angry_audio)"
      ],
      "metadata": {
        "colab": {
          "base_uri": "https://localhost:8080/",
          "height": 803
        },
        "id": "6YXxurjJMrZS",
        "outputId": "02255f77-f3b4-4295-dab5-48cedfcc7abe"
      },
      "execution_count": 5,
      "outputs": [
        {
          "output_type": "display_data",
          "data": {
            "text/plain": [
              "<Figure size 1000x400 with 1 Axes>"
            ],
            "image/png": "[encoded data removed]"
          },
          "metadata": {}
        },
        {
          "output_type": "display_data",
          "data": {
            "text/plain": [
              "<Figure size 1000x400 with 1 Axes>"
            ],
            "image/png": "[encoded data removed]"
          },
          "metadata": {}
        }
      ]
    },
    {
      "cell_type": "code",
      "source": [
        "def get_label(file_path):\n",
        "    \"\"\"Extract emotion label from filename\"\"\"\n",
        "    file_name = os.path.basename(file_path)\n",
        "    emotion_id = int(file_name.split(\"-\")[2])  # Extracting the XX part (emotion)\n",
        "\n",
        "    if emotion_id == 2:\n",
        "        return 0  # Calm\n",
        "    elif emotion_id == 5:\n",
        "        return 1  # Angry\n",
        "    else:\n",
        "        return None  # Ignore other emotions"
      ],
      "metadata": {
        "id": "zqEHw1hnmRQc"
      },
      "execution_count": 6,
      "outputs": []
    },
    {
      "cell_type": "code",
      "source": [
        "def extract_features(y, sr):\n",
        "    # Extract features: MFCC, spectral centroid, spectral rolloff, and zero-crossing rate\n",
        "    mfccs = librosa.feature.mfcc(y=y, sr=sr, n_mfcc=13).mean(axis=1) #They are derived by applying a Fourier transform on the audio signal and capture quality of sound\n",
        "    spectral_centroid = librosa.feature.spectral_centroid(y=y, sr=sr).mean() #brightness of a sound. A higher spectral centroid means the sound has more high-frequency components\n",
        "    spectral_rolloff = librosa.feature.spectral_rolloff(y=y, sr=sr).mean() #It can help distinguish between harmonic and non-harmonic (noisy) content.\n",
        "    zcr = librosa.feature.zero_crossing_rate(y).mean() #it distinguishes between voiced sounds (like vowels) have low zero-crossing rates and unvoiced sounds tend to have higher zero-crossing rates.\n",
        "\n",
        "    return np.hstack([mfccs, spectral_centroid, spectral_rolloff, zcr])"
      ],
      "metadata": {
        "id": "6N42TunlxT6g"
      },
      "execution_count": 7,
      "outputs": []
    },
    {
      "cell_type": "code",
      "source": [
        "def prepare_dataset(file_paths):\n",
        "    X = []\n",
        "    y = []\n",
        "\n",
        "    for file_path in file_paths:\n",
        "        label = get_label(file_path)\n",
        "\n",
        "        if label is None:  # Skip files that are not Angry or Calm\n",
        "            continue\n",
        "\n",
        "        y_signal, sr = librosa.load(file_path, sr=None)\n",
        "        features = extract_features(y_signal, sr)\n",
        "\n",
        "        X.append(features)\n",
        "        y.append(label)\n",
        "\n",
        "    return np.array(X), np.array(y)"
      ],
      "metadata": {
        "id": "OONyA215zOoL"
      },
      "execution_count": 8,
      "outputs": []
    },
    {
      "cell_type": "code",
      "source": [
        "X, y = prepare_dataset(audio_files)\n",
        "print(f\"Total samples: {len(X)}\")\n",
        "print(f\"Feature shape: {X.shape}\")\n",
        "print(f\"Class distribution: {np.bincount(y)}\")  # Count occurrences of each class"
      ],
      "metadata": {
        "colab": {
          "base_uri": "https://localhost:8080/"
        },
        "id": "s22l3p3yiY_f",
        "outputId": "b443ded7-2bab-4ab9-d103-59f34c6c23c5"
      },
      "execution_count": 9,
      "outputs": [
        {
          "output_type": "stream",
          "name": "stdout",
          "text": [
            "Total samples: 368\n",
            "Feature shape: (368, 16)\n",
            "Class distribution: [184 184]\n"
          ]
        }
      ]
    },
    {
      "cell_type": "code",
      "source": [
        "class gnb:\n",
        "    def __init__(self):\n",
        "        self.prior = None\n",
        "        self.n_class = None\n",
        "        self.mean = None\n",
        "        self.variance = None\n",
        "        self.classes = None\n",
        "\n",
        "    def fit(self, X, y):\n",
        "        X_df = pd.DataFrame(X)  # Convert NumPy array to DataFrame\n",
        "        self.mean = X_df.groupby(by=y).mean().values\n",
        "        self.variance = X_df.groupby(by=y).var().values\n",
        "        self.n_class = len(np.unique(y))\n",
        "        self.classes = np.unique(y)\n",
        "        self.prior = 1 / self.n_class  # Equal priors assumed\n",
        "        return self\n",
        "\n",
        "    def gnb_base(self, x_val, x_mean, x_var):\n",
        "        pi = np.pi\n",
        "        e = np.e\n",
        "        eq_1 = 1 / (np.sqrt(2 * pi * x_var))\n",
        "        exp_term = np.exp(-((x_val - x_mean) ** 2) / (2 * x_var))\n",
        "        return eq_1 * exp_term\n",
        "\n",
        "    def predict(self, X):\n",
        "        X = np.array(X)  # Ensure input is a NumPy array\n",
        "        split_class = np.array(self.mean), np.array(self.variance)\n",
        "\n",
        "        predictions = []\n",
        "        for sample in X:  # Iterate over test samples\n",
        "            prob_classes = []\n",
        "            for i in range(self.n_class):\n",
        "                mean_class, var_class = split_class[0][i], split_class[1][i]\n",
        "                likelihood = np.prod([self.gnb_base(sample[j], mean_class[j], var_class[j]) for j in range(len(sample))])\n",
        "                prob_classes.append(likelihood * self.prior)\n",
        "            predictions.append(self.classes[np.argmax(prob_classes)])  # Select class with max probability\n",
        "        return np.array(predictions)"
      ],
      "metadata": {
        "id": "i0wI9jHzFqVH"
      },
      "execution_count": 28,
      "outputs": []
    },
    {
      "cell_type": "code",
      "source": [
        "X, y = prepare_dataset(audio_files)\n",
        "X_train, X_test, y_train, y_test = train_test_split(X, y, test_size=0.2, random_state=42)\n",
        "\n",
        "# Train Naive Bayes model\n",
        "model_gnb = gnb()\n",
        "model_gnb.fit(X_train, y_train)\n",
        "\n",
        "# Predict\n",
        "y_pred = model_gnb.predict(X_test)\n",
        "\n",
        "# Accuracy & Metrics\n",
        "accuracy = np.mean(y_pred == y_test)\n",
        "print(f\"Model Accuracy: {accuracy:.2f}\")\n",
        "\n",
        "# Precision, Recall, F1-Score\n",
        "print(\"Classification Report:\\n\", classification_report(y_test, y_pred))\n"
      ],
      "metadata": {
        "colab": {
          "base_uri": "https://localhost:8080/"
        },
        "id": "5ivedR9AIFb2",
        "outputId": "c794e753-cb5d-4379-de5d-885cf49a54de"
      },
      "execution_count": 29,
      "outputs": [
        {
          "output_type": "stream",
          "name": "stdout",
          "text": [
            "Model Accuracy: 0.91\n",
            "Classification Report:\n",
            "               precision    recall  f1-score   support\n",
            "\n",
            "           0       0.94      0.85      0.89        34\n",
            "           1       0.88      0.95      0.92        40\n",
            "\n",
            "    accuracy                           0.91        74\n",
            "   macro avg       0.91      0.90      0.90        74\n",
            "weighted avg       0.91      0.91      0.90        74\n",
            "\n"
          ]
        }
      ]
    },
    {
      "cell_type": "markdown",
      "source": [
        "# Logistic Regression without Bagging\n",
        "\n"
      ],
      "metadata": {
        "id": "XV8OXNTmJ9ls"
      }
    },
    {
      "cell_type": "code",
      "source": [
        "import numpy as np\n",
        "\n",
        "class LogisticRegression:\n",
        "    def __init__(self, learning_rate=0.01, num_iterations=700):\n",
        "        # Hyperparameters\n",
        "        self.learning_rate = learning_rate\n",
        "        self.num_iterations = num_iterations\n",
        "        self.weights = None\n",
        "        self.bias = None\n",
        "\n",
        "    def sigmoid(self, z):\n",
        "\n",
        "        return 1 / (1 + np.exp(-z))\n",
        "\n",
        "    def find_z(self, X):\n",
        "\n",
        "        return np.dot(X, self.weights) + self.bias\n",
        "\n",
        "    def loss(self, y, y_hat):\n",
        "\n",
        "        N = len(y)\n",
        "        small_value = 1e-15  # to avoid log(0)\n",
        "        y_hat = np.clip(y_hat, small_value, 1 - small_value)  # Clip values for stability\n",
        "        return -(1 / N) * np.sum(y * np.log(y_hat) + (1 - y) * np.log(1 - y_hat))\n",
        "\n",
        "    def fit(self, X, y):\n",
        "\n",
        "        self.weights = np.zeros((X.shape[1], 1))  # 2-> two features , 1 -> one column\n",
        "        self.bias = 0\n",
        "        N = len(y)\n",
        "\n",
        "        for epoch in range(self.num_iterations):\n",
        "\n",
        "          i = np.random.randint(N)\n",
        "\n",
        "          for i in range(N) :\n",
        "\n",
        "            sample = X[i].reshape(1, X.shape[1])\n",
        "            label = y[i]\n",
        "\n",
        "            z = self.find_z(sample)\n",
        "            y_hat = self.sigmoid(z)\n",
        "\n",
        "            # backword\n",
        "            delta_w = (y_hat - label) * sample.T\n",
        "            delta_b =  (y_hat - label).item()\n",
        "\n",
        "            # update\n",
        "            self.weights = self.weights - self.learning_rate * delta_w\n",
        "            self.bias =self.bias - self.learning_rate * delta_b\n",
        "\n",
        "\n",
        "\n",
        "\n",
        "    def predict(self, X):\n",
        "\n",
        "        z = self.find_z(X)\n",
        "        y_hat = self.sigmoid(z)\n",
        "        return (y_hat >= 0.5).astype(int)  # Classify as 1 if >= 0.5, else 0\n",
        "\n",
        "    def predict_proba(self, X):\n",
        "        \"\"\"\n",
        "        Predict probabilities for each class (for logistic regression, this is the probability of class 1).\n",
        "        \"\"\"\n",
        "        z = self._find_z(X)\n",
        "        return self._sigmoid(z)  # Output probabilities between 0 and 1\n"
      ],
      "metadata": {
        "id": "n6d0u1F2NmNr"
      },
      "execution_count": 43,
      "outputs": []
    },
    {
      "cell_type": "code",
      "source": [
        "# Initialize and train the model\n",
        "model_LogisticRegression = LogisticRegression(learning_rate=0.01, num_iterations=200)\n",
        "model_LogisticRegression.fit(X_train, y_train)  # This should store weights and bias in the model\n",
        "\n",
        "# Make predictions (no need to pass weights and bias - they're stored in the model)\n",
        "y_pred = model_LogisticRegression.predict(X_test )\n",
        "\n",
        "# Calculate accuracy\n",
        "correct = 0\n",
        "for i in range(len(y_test)):\n",
        "    if y_pred[i] == y_test[i]:  # You forgot the 'if' statement\n",
        "        correct += 1\n",
        "\n",
        "accuracy = (correct / len(y_test)) * 100\n",
        "print(f\"Accuracy: {accuracy:.2f}%\")\n",
        "\n",
        "# Print classification report\n",
        "print(\"Classification Report:\\n\", classification_report(y_test, y_pred))\n"
      ],
      "metadata": {
        "colab": {
          "base_uri": "https://localhost:8080/"
        },
        "id": "mVIRlimGoBs1",
        "outputId": "697bcb22-5a92-457f-b380-628b7f071809"
      },
      "execution_count": 44,
      "outputs": [
        {
          "output_type": "stream",
          "name": "stderr",
          "text": [
            "<ipython-input-43-3f57ea2996f3>:13: RuntimeWarning: overflow encountered in exp\n",
            "  return 1 / (1 + np.exp(-z))\n"
          ]
        },
        {
          "output_type": "stream",
          "name": "stdout",
          "text": [
            "Accuracy: 72.97%\n",
            "Classification Report:\n",
            "               precision    recall  f1-score   support\n",
            "\n",
            "           0       0.94      0.44      0.60        34\n",
            "           1       0.67      0.97      0.80        40\n",
            "\n",
            "    accuracy                           0.73        74\n",
            "   macro avg       0.80      0.71      0.70        74\n",
            "weighted avg       0.79      0.73      0.71        74\n",
            "\n"
          ]
        }
      ]
    },
    {
      "cell_type": "markdown",
      "source": [
        "# Apply Bagging with Naïve Bayes and Logistic Regression"
      ],
      "metadata": {
        "id": "YSX1JUXHDYAv"
      }
    },
    {
      "cell_type": "code",
      "source": [
        "import numpy as np\n",
        "from sklearn.model_selection import train_test_split\n",
        "\n",
        "from sklearn.utils import shuffle\n",
        "\n",
        "def bagging_naive_bayes(X_train, y_train, X_test, number_of_bags):\n",
        "\n",
        "  n_samples = len(X_train)\n",
        "\n",
        "  X_train , y_train = shuffle(X_train , y_train , random_state=42)\n",
        "\n",
        "  predictions = []\n",
        "\n",
        "  for bag in range(number_of_bags):\n",
        "    indices = np.random.choice(n_samples, size=n_samples, replace=True)\n",
        "    X_bag = X_train[indices]\n",
        "    y_bag = y_train[indices]\n",
        "\n",
        "    model = gnb()\n",
        "    model.fit(X_bag, y_bag)\n",
        "    predictions.append(model.predict(X_test))\n",
        "\n",
        "\n",
        "  predictions = np.array(predictions)\n",
        "\n",
        "\n",
        "\n",
        "  # print(predictions)  # 10 lists each has 74 value predicted\n",
        "  final_predictions = np.apply_along_axis(lambda x: np.bincount(x).argmax(), axis=0, arr=predictions)\n",
        "\n",
        "  return final_predictions\n",
        "\n"
      ],
      "metadata": {
        "id": "YgWTGll8MCqq"
      },
      "execution_count": 32,
      "outputs": []
    },
    {
      "cell_type": "code",
      "source": [
        "naive_bayes_bagging_predicted =  bagging_naive_bayes(X_train, y_train, X_test, number_of_bags=10)\n",
        "\n",
        "# print(naive_bayes_bagging_predicted)\n",
        "\n",
        "correct = 0\n",
        "for i in range(len(y_test)):\n",
        "  if naive_bayes_bagging_predicted[i] == y_test[i]:\n",
        "    correct += 1\n",
        "\n",
        "correct = (correct / len(y_test)) * 100\n",
        "print(\"aacuracy of bagging in naive bayes : \" , correct)\n",
        "\n",
        "print(\"Classification Report:\\n\", classification_report(y_test, naive_bayes_bagging_predicted))\n"
      ],
      "metadata": {
        "colab": {
          "base_uri": "https://localhost:8080/"
        },
        "id": "HoDeuTXsyg9z",
        "outputId": "b6aaba01-6886-4890-812d-e6c22f564112"
      },
      "execution_count": 33,
      "outputs": [
        {
          "output_type": "stream",
          "name": "stdout",
          "text": [
            "aacuracy of bagging in naive bayes :  90.54054054054053\n",
            "Classification Report:\n",
            "               precision    recall  f1-score   support\n",
            "\n",
            "           0       0.94      0.85      0.89        34\n",
            "           1       0.88      0.95      0.92        40\n",
            "\n",
            "    accuracy                           0.91        74\n",
            "   macro avg       0.91      0.90      0.90        74\n",
            "weighted avg       0.91      0.91      0.90        74\n",
            "\n"
          ]
        }
      ]
    },
    {
      "cell_type": "markdown",
      "source": [
        "# Logistic Regression with Bagging"
      ],
      "metadata": {
        "id": "98_I_75R2v-k"
      }
    },
    {
      "cell_type": "code",
      "source": [
        "def bagging_logistic_regression(X_train, y_train, X_test, number_of_bags):\n",
        "    n_samples = len(X_train)\n",
        "    predictions = []\n",
        "\n",
        "    for bag in range(number_of_bags):\n",
        "        # Shuffle and sample with replacement\n",
        "        indices = np.random.choice(n_samples, size=n_samples, replace=True)\n",
        "        X_bag = X_train[indices]\n",
        "        y_bag = y_train[indices]\n",
        "\n",
        "        model = LogisticRegression(learning_rate=0.01, num_iterations=200)\n",
        "        model.fit(X_bag, y_bag)\n",
        "        y_pred = model.predict(X_test)\n",
        "        predictions.append(y_pred)\n",
        "\n",
        "    predictions = np.array(predictions)\n",
        "    final_predictions = np.apply_along_axis(lambda x: np.bincount(x).argmax(), axis=0, arr=predictions)\n",
        "\n",
        "    return final_predictions\n"
      ],
      "metadata": {
        "id": "51-r5OA8u10j"
      },
      "execution_count": 34,
      "outputs": []
    },
    {
      "cell_type": "code",
      "source": [
        "logistic_regression_bagging_predicted = bagging_logistic_regression(X_train, y_train, X_test, number_of_bags=10)\n",
        "\n",
        "correct = 0\n",
        "for i in range(len(y_test)):\n",
        "    if logistic_regression_bagging_predicted[i] == y_test[i]:\n",
        "        correct += 1\n",
        "\n",
        "accuracy = (correct / len(y_test)) * 100\n",
        "print(\"Accuracy of bagging in logistic regression:\", accuracy)\n",
        "print(\"Classification Report:\\n\", classification_report(y_test, logistic_regression_bagging_predicted))\n"
      ],
      "metadata": {
        "colab": {
          "base_uri": "https://localhost:8080/"
        },
        "id": "1zb1BZ7v4e_K",
        "outputId": "8bbb3c16-23a7-451e-aff8-5d028b17e8a2"
      },
      "execution_count": 35,
      "outputs": [
        {
          "output_type": "stream",
          "name": "stderr",
          "text": [
            "<ipython-input-30-3f57ea2996f3>:13: RuntimeWarning: overflow encountered in exp\n",
            "  return 1 / (1 + np.exp(-z))\n"
          ]
        },
        {
          "output_type": "stream",
          "name": "stdout",
          "text": [
            "Accuracy of bagging in logistic regression: 82.43243243243244\n",
            "Classification Report:\n",
            "               precision    recall  f1-score   support\n",
            "\n",
            "           0       0.84      0.76      0.80        34\n",
            "           1       0.81      0.88      0.84        40\n",
            "\n",
            "    accuracy                           0.82        74\n",
            "   macro avg       0.83      0.82      0.82        74\n",
            "weighted avg       0.83      0.82      0.82        74\n",
            "\n"
          ]
        }
      ]
    },
    {
      "cell_type": "markdown",
      "source": [
        "# start taking the input"
      ],
      "metadata": {
        "id": "1j4fdC26FmSt"
      }
    },
    {
      "cell_type": "code",
      "source": [
        "!pip install playsound"
      ],
      "metadata": {
        "id": "1VDh4XOr582Y"
      },
      "execution_count": null,
      "outputs": []
    },
    {
      "cell_type": "code",
      "source": [
        "!pip install SpeechRecognition"
      ],
      "metadata": {
        "id": "muYgz_az6WXA"
      },
      "execution_count": null,
      "outputs": []
    },
    {
      "cell_type": "code",
      "source": [
        "!pip install pipwin"
      ],
      "metadata": {
        "id": "0X5n8se58a10"
      },
      "execution_count": null,
      "outputs": []
    },
    {
      "cell_type": "code",
      "source": [
        "!apt-get install -y portaudio19-dev\n",
        "\n",
        "!pip install PyAudio\n"
      ],
      "metadata": {
        "id": "g_QF7-QZCI3v"
      },
      "execution_count": null,
      "outputs": []
    },
    {
      "cell_type": "code",
      "source": [
        "from IPython.display import Audio, display\n",
        "from google.colab import output\n",
        "import soundfile as sf\n",
        "\n",
        "def record_audio(filename='audio.wav', duration=5):\n",
        "    import IPython.display as ipd\n",
        "    RECORD = f\"\"\"\n",
        "    const sleep = time => new Promise(resolve => setTimeout(resolve, time))\n",
        "    const b2text = blob => new Promise(resolve => {{\n",
        "      const reader = new FileReader()\n",
        "      reader.onloadend = () => resolve(reader.result)\n",
        "      reader.readAsDataURL(blob)\n",
        "    }})\n",
        "\n",
        "    async function record(duration) {{\n",
        "      const stream = await navigator.mediaDevices.getUserMedia({{ audio: true }})\n",
        "      const mediaRecorder = new MediaRecorder(stream)\n",
        "      const audioChunks = []\n",
        "\n",
        "      mediaRecorder.addEventListener(\"dataavailable\", event => {{\n",
        "        audioChunks.push(event.data)\n",
        "      }})\n",
        "\n",
        "      mediaRecorder.start()\n",
        "      await sleep(duration)\n",
        "      mediaRecorder.stop()\n",
        "\n",
        "      await new Promise(resolve => mediaRecorder.addEventListener(\"stop\", resolve))\n",
        "      const audioBlob = new Blob(audioChunks)\n",
        "      const base64 = await b2text(audioBlob)\n",
        "      return base64\n",
        "    }}\n",
        "\n",
        "    record({duration * 1000}).then(base64 => {{\n",
        "      google.colab.kernel.invokeFunction('notebook.save_audio', [base64], {{}});\n",
        "    }})\n",
        "    \"\"\"\n",
        "    display(ipd.Javascript(RECORD))\n",
        "\n",
        "def save_audio(base64_audio):\n",
        "    import base64\n",
        "    audio_bytes = base64.b64decode(base64_audio.split(',')[1])\n",
        "    with open(\"audio.wav\", \"wb\") as f:\n",
        "        f.write(audio_bytes)\n",
        "\n",
        "output.register_callback('notebook.save_audio', save_audio)\n",
        "record_audio()\n"
      ],
      "metadata": {
        "id": "dmbHaZDPJ3wW",
        "colab": {
          "base_uri": "https://localhost:8080/",
          "height": 17
        },
        "outputId": "01b887f9-7958-42e8-d124-762e66b6dc34"
      },
      "execution_count": 22,
      "outputs": [
        {
          "output_type": "display_data",
          "data": {
            "text/plain": [
              "<IPython.core.display.Javascript object>"
            ],
            "application/javascript": [
              "\n",
              "    const sleep = time => new Promise(resolve => setTimeout(resolve, time))\n",
              "    const b2text = blob => new Promise(resolve => {\n",
              "      const reader = new FileReader()\n",
              "      reader.onloadend = () => resolve(reader.result)\n",
              "      reader.readAsDataURL(blob)\n",
              "    })\n",
              "\n",
              "    async function record(duration) {\n",
              "      const stream = await navigator.mediaDevices.getUserMedia({ audio: true })\n",
              "      const mediaRecorder = new MediaRecorder(stream)\n",
              "      const audioChunks = []\n",
              "\n",
              "      mediaRecorder.addEventListener(\"dataavailable\", event => {\n",
              "        audioChunks.push(event.data)\n",
              "      })\n",
              "\n",
              "      mediaRecorder.start()\n",
              "      await sleep(duration)\n",
              "      mediaRecorder.stop()\n",
              "\n",
              "      await new Promise(resolve => mediaRecorder.addEventListener(\"stop\", resolve))\n",
              "      const audioBlob = new Blob(audioChunks)\n",
              "      const base64 = await b2text(audioBlob)\n",
              "      return base64\n",
              "    }\n",
              "\n",
              "    record(5000).then(base64 => {\n",
              "      google.colab.kernel.invokeFunction('notebook.save_audio', [base64], {});\n",
              "    })\n",
              "    "
            ]
          },
          "metadata": {}
        }
      ]
    },
    {
      "cell_type": "markdown",
      "source": [
        "start recording"
      ],
      "metadata": {
        "id": "vbRy_Z56NBWM"
      }
    },
    {
      "cell_type": "code",
      "source": [
        "record_audio(duration=5)  # Record for 5 seconds\n"
      ],
      "metadata": {
        "colab": {
          "base_uri": "https://localhost:8080/",
          "height": 17
        },
        "id": "h8OapAOfKgai",
        "outputId": "590e5606-0072-447a-848c-ed94e89cc8ea"
      },
      "execution_count": 55,
      "outputs": [
        {
          "output_type": "display_data",
          "data": {
            "text/plain": [
              "<IPython.core.display.Javascript object>"
            ],
            "application/javascript": [
              "\n",
              "    const sleep = time => new Promise(resolve => setTimeout(resolve, time))\n",
              "    const b2text = blob => new Promise(resolve => {\n",
              "      const reader = new FileReader()\n",
              "      reader.onloadend = () => resolve(reader.result)\n",
              "      reader.readAsDataURL(blob)\n",
              "    })\n",
              "\n",
              "    async function record(duration) {\n",
              "      const stream = await navigator.mediaDevices.getUserMedia({ audio: true })\n",
              "      const mediaRecorder = new MediaRecorder(stream)\n",
              "      const audioChunks = []\n",
              "\n",
              "      mediaRecorder.addEventListener(\"dataavailable\", event => {\n",
              "        audioChunks.push(event.data)\n",
              "      })\n",
              "\n",
              "      mediaRecorder.start()\n",
              "      await sleep(duration)\n",
              "      mediaRecorder.stop()\n",
              "\n",
              "      await new Promise(resolve => mediaRecorder.addEventListener(\"stop\", resolve))\n",
              "      const audioBlob = new Blob(audioChunks)\n",
              "      const base64 = await b2text(audioBlob)\n",
              "      return base64\n",
              "    }\n",
              "\n",
              "    record(5000).then(base64 => {\n",
              "      google.colab.kernel.invokeFunction('notebook.save_audio', [base64], {});\n",
              "    })\n",
              "    "
            ]
          },
          "metadata": {}
        }
      ]
    },
    {
      "cell_type": "code",
      "source": [
        "from IPython.display import Audio\n",
        "Audio(\"audio.wav\")"
      ],
      "metadata": {
        "id": "RJCJlbT0LlEC"
      },
      "execution_count": null,
      "outputs": []
    },
    {
      "cell_type": "code",
      "source": [
        "# import speech_recognition as sr\n",
        "import soundfile as sf\n",
        "import numpy as np\n",
        "import librosa\n",
        "\n",
        "def get_audio_and_predict():\n",
        "\n",
        "\n",
        "    # Save the audio to a file\n",
        "    audio_path = \"audio.wav\"\n",
        "\n",
        "    # Process the saved audio file with librosa\n",
        "    y, sr_rate = librosa.load(audio_path, sr=None) # sr is the sound rate\n",
        "    y = librosa.effects.preemphasis(y)\n",
        "    y = librosa.util.normalize(y)\n",
        "\n",
        "    # Extract features\n",
        "    features = extract_features(y, sr_rate).reshape(1, -1)\n",
        "    return features\n",
        "\n",
        "\n"
      ],
      "metadata": {
        "id": "_WfJbV0qL0nM"
      },
      "execution_count": 57,
      "outputs": []
    },
    {
      "cell_type": "markdown",
      "source": [
        "# predict the sound using logistic regression"
      ],
      "metadata": {
        "id": "O5OyVxhmKmLx"
      }
    },
    {
      "cell_type": "code",
      "source": [
        "prediction = model_LogisticRegression.predict(get_audio_and_predict())\n",
        "emotion = \"Calm\" if prediction == 0 else \"Angry\"\n",
        "print(f\"Predicted Emotion: {emotion}\")"
      ],
      "metadata": {
        "colab": {
          "base_uri": "https://localhost:8080/"
        },
        "id": "FROPci07PMA5",
        "outputId": "5d26302e-5ac5-4fb7-e1b2-4ff6e200ae21"
      },
      "execution_count": 58,
      "outputs": [
        {
          "output_type": "stream",
          "name": "stdout",
          "text": [
            "Predicted Emotion: Angry\n"
          ]
        },
        {
          "output_type": "stream",
          "name": "stderr",
          "text": [
            "<ipython-input-57-cb63eb700ee6>:13: UserWarning: PySoundFile failed. Trying audioread instead.\n",
            "  y, sr_rate = librosa.load(audio_path, sr=None) # sr is the sound rate\n",
            "/usr/local/lib/python3.11/dist-packages/librosa/core/audio.py:184: FutureWarning: librosa.core.audio.__audioread_load\n",
            "\tDeprecated as of librosa version 0.10.0.\n",
            "\tIt will be removed in librosa version 1.0.\n",
            "  y, sr_native = __audioread_load(path, offset, duration, dtype)\n"
          ]
        }
      ]
    },
    {
      "cell_type": "markdown",
      "source": [
        "# predict the sound using Naive Bayes"
      ],
      "metadata": {
        "id": "XztefWLBKyWZ"
      }
    },
    {
      "cell_type": "code",
      "source": [
        "prediction = model_gnb.predict(get_audio_and_predict())\n",
        "emotion = \"Calm\" if prediction == 0 else \"Angry\"\n",
        "print(f\"Predicted Emotion: {emotion}\")"
      ],
      "metadata": {
        "colab": {
          "base_uri": "https://localhost:8080/"
        },
        "id": "_HRoElC2QJku",
        "outputId": "efdd58b0-28d7-41c3-97c9-9604175af0bf"
      },
      "execution_count": 46,
      "outputs": [
        {
          "output_type": "stream",
          "name": "stdout",
          "text": [
            "Predicted Emotion: Angry\n"
          ]
        },
        {
          "output_type": "stream",
          "name": "stderr",
          "text": [
            "<ipython-input-41-cb63eb700ee6>:13: UserWarning: PySoundFile failed. Trying audioread instead.\n",
            "  y, sr_rate = librosa.load(audio_path, sr=None) # sr is the sound rate\n",
            "/usr/local/lib/python3.11/dist-packages/librosa/core/audio.py:184: FutureWarning: librosa.core.audio.__audioread_load\n",
            "\tDeprecated as of librosa version 0.10.0.\n",
            "\tIt will be removed in librosa version 1.0.\n",
            "  y, sr_native = __audioread_load(path, offset, duration, dtype)\n"
          ]
        }
      ]
    },
    {
      "cell_type": "markdown",
      "source": [
        "# predict using the bagging technique and Naive Bayes"
      ],
      "metadata": {
        "id": "B1ZEb07WK6GU"
      }
    },
    {
      "cell_type": "code",
      "source": [
        "prediction =  bagging_naive_bayes(X_train, y_train, get_audio_and_predict() , number_of_bags=10)\n",
        "emotion = \"Calm\" if prediction == 0 else \"Angry\"\n",
        "print(f\"Predicted Emotion: {emotion}\")"
      ],
      "metadata": {
        "colab": {
          "base_uri": "https://localhost:8080/"
        },
        "id": "_QhDk0xxLAi9",
        "outputId": "1c7f3db8-7b20-4115-eb54-6a6dbae19f2d"
      },
      "execution_count": 48,
      "outputs": [
        {
          "output_type": "stream",
          "name": "stdout",
          "text": [
            "Predicted Emotion: Angry\n"
          ]
        },
        {
          "output_type": "stream",
          "name": "stderr",
          "text": [
            "<ipython-input-41-cb63eb700ee6>:13: UserWarning: PySoundFile failed. Trying audioread instead.\n",
            "  y, sr_rate = librosa.load(audio_path, sr=None) # sr is the sound rate\n",
            "/usr/local/lib/python3.11/dist-packages/librosa/core/audio.py:184: FutureWarning: librosa.core.audio.__audioread_load\n",
            "\tDeprecated as of librosa version 0.10.0.\n",
            "\tIt will be removed in librosa version 1.0.\n",
            "  y, sr_native = __audioread_load(path, offset, duration, dtype)\n"
          ]
        }
      ]
    },
    {
      "cell_type": "markdown",
      "source": [
        "# predict using the bagging technique and Logistic Regression"
      ],
      "metadata": {
        "id": "dfR4EywGLgI_"
      }
    },
    {
      "cell_type": "code",
      "source": [
        "prediction =  bagging_logistic_regression(X_train, y_train, get_audio_and_predict() , number_of_bags=10)\n",
        "emotion = \"Calm\" if prediction == 0 else \"Angry\"\n",
        "print(f\"Predicted Emotion: {emotion}\")"
      ],
      "metadata": {
        "colab": {
          "base_uri": "https://localhost:8080/"
        },
        "id": "hu116OgFLmLF",
        "outputId": "062be022-d8df-44a1-bfff-245e83e97154"
      },
      "execution_count": 50,
      "outputs": [
        {
          "output_type": "stream",
          "name": "stderr",
          "text": [
            "<ipython-input-41-cb63eb700ee6>:13: UserWarning: PySoundFile failed. Trying audioread instead.\n",
            "  y, sr_rate = librosa.load(audio_path, sr=None) # sr is the sound rate\n",
            "/usr/local/lib/python3.11/dist-packages/librosa/core/audio.py:184: FutureWarning: librosa.core.audio.__audioread_load\n",
            "\tDeprecated as of librosa version 0.10.0.\n",
            "\tIt will be removed in librosa version 1.0.\n",
            "  y, sr_native = __audioread_load(path, offset, duration, dtype)\n",
            "<ipython-input-43-3f57ea2996f3>:13: RuntimeWarning: overflow encountered in exp\n",
            "  return 1 / (1 + np.exp(-z))\n"
          ]
        },
        {
          "output_type": "stream",
          "name": "stdout",
          "text": [
            "Predicted Emotion: Angry\n"
          ]
        }
      ]
    }
  ]
}